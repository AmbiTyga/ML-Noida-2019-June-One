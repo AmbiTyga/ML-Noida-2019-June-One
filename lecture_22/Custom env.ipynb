{
 "cells": [
  {
   "cell_type": "code",
   "execution_count": 2,
   "metadata": {},
   "outputs": [],
   "source": [
    "import numpy as np"
   ]
  },
  {
   "cell_type": "code",
   "execution_count": 74,
   "metadata": {},
   "outputs": [],
   "source": [
    "class TicTac:\n",
    "    \n",
    "    def __init__(self):\n",
    "        self.player = 1\n",
    "        self.action_len = 9\n",
    "        self.state_len = 9\n",
    "        self.state = np.zeros([9])\n",
    "        self.done = False\n",
    "        \n",
    "    def reset(self):\n",
    "        self.player = 1\n",
    "        self.state = np.zeros([9])\n",
    "        \n",
    "    def step(self, location):\n",
    "        player = self.player\n",
    "        if(self.state[location] != 0 or self.done):\n",
    "            return np.copy(self.state), -10, False\n",
    "        \n",
    "        self.player = -1 * player\n",
    "        self.state[location] = player\n",
    "        reward, done = self.reward_system(location, player)\n",
    "        self.done = done\n",
    "        return np.copy(self.state), reward * player, done\n",
    "        \n",
    "    def reward_system(self, location, player):\n",
    "        row = location // 3\n",
    "        row_win = np.sum(self.state[row*3:(row+1)*3]) == player*3\n",
    "        \n",
    "        col = location % 3\n",
    "        col_win = np.sum(self.state[[col, col+3, col+6]]) == player*3\n",
    "    \n",
    "        d1 = np.sum(self.state[[0, 4, 8]]) == player*3\n",
    "        d2 = np.sum(self.state[[2, 4, 6]]) == player*3\n",
    "        \n",
    "        if (row_win or col_win or d1 or d2):\n",
    "            return 10, True\n",
    "        elif (len(self.state[self.state == 0]) == 0):\n",
    "            return 0, True\n",
    "        else:\n",
    "            return 1, False"
   ]
  },
  {
   "cell_type": "code",
   "execution_count": 75,
   "metadata": {},
   "outputs": [],
   "source": [
    "env = TicTac()"
   ]
  },
  {
   "cell_type": "code",
   "execution_count": 76,
   "metadata": {},
   "outputs": [
    {
     "data": {
      "text/plain": [
       "9"
      ]
     },
     "execution_count": 76,
     "metadata": {},
     "output_type": "execute_result"
    }
   ],
   "source": [
    "len(env.state[env.state == 0])"
   ]
  },
  {
   "cell_type": "code",
   "execution_count": 83,
   "metadata": {},
   "outputs": [
    {
     "name": "stdout",
     "output_type": "stream",
     "text": [
      "[[ 1. -1.  0.]\n",
      " [ 1. -1.  1.]\n",
      " [ 0. -1.  0.]]\n",
      "-10\n"
     ]
    }
   ],
   "source": [
    "state, reward, done = env.step(8)\n",
    "print(state.reshape(3, 3))\n",
    "print(reward)"
   ]
  },
  {
   "cell_type": "code",
   "execution_count": 67,
   "metadata": {},
   "outputs": [],
   "source": [
    "env.reset()"
   ]
  },
  {
   "cell_type": "code",
   "execution_count": 46,
   "metadata": {},
   "outputs": [
    {
     "data": {
      "text/plain": [
       "array([0., 0., 0., 0., 0., 0., 0., 0., 0.])"
      ]
     },
     "execution_count": 46,
     "metadata": {},
     "output_type": "execute_result"
    }
   ],
   "source": [
    "env.state"
   ]
  },
  {
   "cell_type": "code",
   "execution_count": null,
   "metadata": {},
   "outputs": [],
   "source": []
  }
 ],
 "metadata": {
  "kernelspec": {
   "display_name": "Python 3",
   "language": "python",
   "name": "python3"
  },
  "language_info": {
   "codemirror_mode": {
    "name": "ipython",
    "version": 3
   },
   "file_extension": ".py",
   "mimetype": "text/x-python",
   "name": "python",
   "nbconvert_exporter": "python",
   "pygments_lexer": "ipython3",
   "version": "3.7.2"
  }
 },
 "nbformat": 4,
 "nbformat_minor": 2
}
